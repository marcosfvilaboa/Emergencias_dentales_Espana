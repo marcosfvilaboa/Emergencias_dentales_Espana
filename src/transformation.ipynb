{
 "cells": [
  {
   "cell_type": "markdown",
   "id": "8bedeffe",
   "metadata": {},
   "source": [
    "# Exploració i transformació de les dades Dental Emergencies Dataset"
   ]
  },
  {
   "cell_type": "markdown",
   "id": "722158a4",
   "metadata": {},
   "source": [
    "### Importació de llibreríes i càrrega del dataset des de fitxer CSV"
   ]
  },
  {
   "cell_type": "code",
   "execution_count": 1,
   "id": "65586b49",
   "metadata": {},
   "outputs": [],
   "source": [
    "# Importem les llibreries\n",
    "import numpy as np\n",
    "import pandas as pd\n",
    "import csv"
   ]
  },
  {
   "cell_type": "code",
   "execution_count": 2,
   "id": "72c63d24",
   "metadata": {},
   "outputs": [],
   "source": [
    "#diplay multiple outputs\n",
    "from IPython.core.interactiveshell import InteractiveShell\n",
    "InteractiveShell.ast_node_interactivity = \"all\""
   ]
  },
  {
   "cell_type": "code",
   "execution_count": 3,
   "id": "9389e1d2",
   "metadata": {},
   "outputs": [],
   "source": [
    "# Llegim les dades\n",
    "dental_em = pd.read_csv('dental_emergencies_edited.tab', sep='\\t')"
   ]
  },
  {
   "cell_type": "markdown",
   "id": "66e5c5b0",
   "metadata": {},
   "source": [
    "### Exploració de les dades generals"
   ]
  },
  {
   "cell_type": "code",
   "execution_count": 4,
   "id": "60af1f49",
   "metadata": {
    "tags": []
   },
   "outputs": [
    {
     "data": {
      "text/html": [
       "<div>\n",
       "<style scoped>\n",
       "    .dataframe tbody tr th:only-of-type {\n",
       "        vertical-align: middle;\n",
       "    }\n",
       "\n",
       "    .dataframe tbody tr th {\n",
       "        vertical-align: top;\n",
       "    }\n",
       "\n",
       "    .dataframe thead th {\n",
       "        text-align: right;\n",
       "    }\n",
       "</style>\n",
       "<table border=\"1\" class=\"dataframe\">\n",
       "  <thead>\n",
       "    <tr style=\"text-align: right;\">\n",
       "      <th></th>\n",
       "      <th>time</th>\n",
       "      <th>consent</th>\n",
       "      <th>is_dentist</th>\n",
       "      <th>age</th>\n",
       "      <th>gender</th>\n",
       "      <th>workplace</th>\n",
       "      <th>population</th>\n",
       "      <th>workspace</th>\n",
       "      <th>dental_care_cabinets_number</th>\n",
       "      <th>activity_area</th>\n",
       "      <th>...</th>\n",
       "      <th>thanks1</th>\n",
       "      <th>top_emergency_type_upTo3</th>\n",
       "      <th>patient_symptoms_upToSeveral</th>\n",
       "      <th>patient_instructions_before_appointment_upToSeveral</th>\n",
       "      <th>preventive_procedure_before_waiting_room_upToSeveral</th>\n",
       "      <th>cross_contamination_cabinet_prevention_upToSeveral</th>\n",
       "      <th>patient_cabinet_prevention_measures_upToSeveral</th>\n",
       "      <th>auxiliary_personnel</th>\n",
       "      <th>PPE_upToSeveral</th>\n",
       "      <th>thanks2</th>\n",
       "    </tr>\n",
       "  </thead>\n",
       "  <tbody>\n",
       "    <tr>\n",
       "      <th>0</th>\n",
       "      <td>2020/04/28 4:14:04 PM GMT+2</td>\n",
       "      <td>Sí</td>\n",
       "      <td>No</td>\n",
       "      <td>NaN</td>\n",
       "      <td>NaN</td>\n",
       "      <td>NaN</td>\n",
       "      <td>NaN</td>\n",
       "      <td>NaN</td>\n",
       "      <td>NaN</td>\n",
       "      <td>NaN</td>\n",
       "      <td>...</td>\n",
       "      <td>NaN</td>\n",
       "      <td>NaN</td>\n",
       "      <td>NaN</td>\n",
       "      <td>NaN</td>\n",
       "      <td>NaN</td>\n",
       "      <td>NaN</td>\n",
       "      <td>NaN</td>\n",
       "      <td>NaN</td>\n",
       "      <td>NaN</td>\n",
       "      <td>NaN</td>\n",
       "    </tr>\n",
       "    <tr>\n",
       "      <th>1</th>\n",
       "      <td>2020/04/28 4:22:12 PM GMT+2</td>\n",
       "      <td>Sí</td>\n",
       "      <td>Sí</td>\n",
       "      <td>40-49 años</td>\n",
       "      <td>Hombre</td>\n",
       "      <td>Comunidad de Madrid</td>\n",
       "      <td>Más de 100.000 habitantes (urbana)</td>\n",
       "      <td>Práctica clínica privada por cuenta propia</td>\n",
       "      <td>Uno o dos gabinetes</td>\n",
       "      <td>Odontología general</td>\n",
       "      <td>...</td>\n",
       "      <td>NaN</td>\n",
       "      <td>Traumatismo del área orofacial acompañado de d...</td>\n",
       "      <td>Ha tenido o tiene fiebre superior a 37,5ºC y/o...</td>\n",
       "      <td>Llegar a la hora pactada (ni antes ni después)...</td>\n",
       "      <td>Se pide al paciente que se lave las manos con ...</td>\n",
       "      <td>Ha seguido empleando los habituales protocolos...</td>\n",
       "      <td>Volver a pedir al paciente que se desinfecte l...</td>\n",
       "      <td>Sí, pero no durante todo el tiempo</td>\n",
       "      <td>Batas impermeables;Gafas de protección estanca...</td>\n",
       "      <td>NaN</td>\n",
       "    </tr>\n",
       "    <tr>\n",
       "      <th>2</th>\n",
       "      <td>2020/04/28 4:26:43 PM GMT+2</td>\n",
       "      <td>Sí</td>\n",
       "      <td>Sí</td>\n",
       "      <td>Menos de 29 años</td>\n",
       "      <td>Hombre</td>\n",
       "      <td>Comunidad de Madrid</td>\n",
       "      <td>Más de 100.000 habitantes (urbana)</td>\n",
       "      <td>Práctica clínica privada por cuenta ajena</td>\n",
       "      <td>Más de 10</td>\n",
       "      <td>Odontología Conservadora y Prótesis</td>\n",
       "      <td>...</td>\n",
       "      <td>NaN</td>\n",
       "      <td>Presencia de dolor dentario severo que no cede...</td>\n",
       "      <td>Ha tenido o tiene fiebre superior a 37,5ºC y/o...</td>\n",
       "      <td>Llegar a la hora pactada (ni antes ni después)...</td>\n",
       "      <td>En recepción se registra la temperatura del pa...</td>\n",
       "      <td>Renovación del aire del gabinete tras la consu...</td>\n",
       "      <td>Colocar al paciente, antes de sentarse en el s...</td>\n",
       "      <td>Sí, pero no durante todo el tiempo</td>\n",
       "      <td>Mascarillas FFP2/FFP3;Pantalla facial;Cubrecal...</td>\n",
       "      <td>NaN</td>\n",
       "    </tr>\n",
       "  </tbody>\n",
       "</table>\n",
       "<p>3 rows × 27 columns</p>\n",
       "</div>"
      ],
      "text/plain": [
       "                          time consent is_dentist               age  gender  \\\n",
       "0  2020/04/28 4:14:04 PM GMT+2      Sí         No               NaN     NaN   \n",
       "1  2020/04/28 4:22:12 PM GMT+2      Sí         Sí        40-49 años  Hombre   \n",
       "2  2020/04/28 4:26:43 PM GMT+2      Sí         Sí  Menos de 29 años  Hombre   \n",
       "\n",
       "             workplace                          population  \\\n",
       "0                  NaN                                 NaN   \n",
       "1  Comunidad de Madrid  Más de 100.000 habitantes (urbana)   \n",
       "2  Comunidad de Madrid  Más de 100.000 habitantes (urbana)   \n",
       "\n",
       "                                    workspace dental_care_cabinets_number  \\\n",
       "0                                         NaN                         NaN   \n",
       "1  Práctica clínica privada por cuenta propia         Uno o dos gabinetes   \n",
       "2   Práctica clínica privada por cuenta ajena                   Más de 10   \n",
       "\n",
       "                         activity_area  ... thanks1  \\\n",
       "0                                  NaN  ...     NaN   \n",
       "1                  Odontología general  ...     NaN   \n",
       "2  Odontología Conservadora y Prótesis  ...     NaN   \n",
       "\n",
       "                            top_emergency_type_upTo3  \\\n",
       "0                                                NaN   \n",
       "1  Traumatismo del área orofacial acompañado de d...   \n",
       "2  Presencia de dolor dentario severo que no cede...   \n",
       "\n",
       "                        patient_symptoms_upToSeveral  \\\n",
       "0                                                NaN   \n",
       "1  Ha tenido o tiene fiebre superior a 37,5ºC y/o...   \n",
       "2  Ha tenido o tiene fiebre superior a 37,5ºC y/o...   \n",
       "\n",
       "  patient_instructions_before_appointment_upToSeveral  \\\n",
       "0                                                NaN    \n",
       "1  Llegar a la hora pactada (ni antes ni después)...    \n",
       "2  Llegar a la hora pactada (ni antes ni después)...    \n",
       "\n",
       "  preventive_procedure_before_waiting_room_upToSeveral  \\\n",
       "0                                                NaN     \n",
       "1  Se pide al paciente que se lave las manos con ...     \n",
       "2  En recepción se registra la temperatura del pa...     \n",
       "\n",
       "  cross_contamination_cabinet_prevention_upToSeveral  \\\n",
       "0                                                NaN   \n",
       "1  Ha seguido empleando los habituales protocolos...   \n",
       "2  Renovación del aire del gabinete tras la consu...   \n",
       "\n",
       "     patient_cabinet_prevention_measures_upToSeveral  \\\n",
       "0                                                NaN   \n",
       "1  Volver a pedir al paciente que se desinfecte l...   \n",
       "2  Colocar al paciente, antes de sentarse en el s...   \n",
       "\n",
       "                  auxiliary_personnel  \\\n",
       "0                                 NaN   \n",
       "1  Sí, pero no durante todo el tiempo   \n",
       "2  Sí, pero no durante todo el tiempo   \n",
       "\n",
       "                                     PPE_upToSeveral thanks2  \n",
       "0                                                NaN     NaN  \n",
       "1  Batas impermeables;Gafas de protección estanca...     NaN  \n",
       "2  Mascarillas FFP2/FFP3;Pantalla facial;Cubrecal...     NaN  \n",
       "\n",
       "[3 rows x 27 columns]"
      ]
     },
     "execution_count": 4,
     "metadata": {},
     "output_type": "execute_result"
    }
   ],
   "source": [
    "# Imprimim 3 registres\n",
    "dental_em.head(3)"
   ]
  },
  {
   "cell_type": "code",
   "execution_count": 5,
   "id": "a41ae395",
   "metadata": {
    "tags": []
   },
   "outputs": [
    {
     "name": "stdout",
     "output_type": "stream",
     "text": [
      "<class 'pandas.core.frame.DataFrame'>\n",
      "RangeIndex: 346 entries, 0 to 345\n",
      "Data columns (total 27 columns):\n",
      " #   Column                                                Non-Null Count  Dtype  \n",
      "---  ------                                                --------------  -----  \n",
      " 0   time                                                  346 non-null    object \n",
      " 1   consent                                               346 non-null    object \n",
      " 2   is_dentist                                            344 non-null    object \n",
      " 3   age                                                   312 non-null    object \n",
      " 4   gender                                                312 non-null    object \n",
      " 5   workplace                                             312 non-null    object \n",
      " 6   population                                            312 non-null    object \n",
      " 7   workspace                                             311 non-null    object \n",
      " 8   dental_care_cabinets_number                           312 non-null    object \n",
      " 9   activity_area                                         312 non-null    object \n",
      " 10  how_emergency_treatments                              312 non-null    object \n",
      " 11  is_number_emergency_increase                          312 non-null    object \n",
      " 12  reasons_of_contact_upTo3                              312 non-null    object \n",
      " 13  how_solved                                            312 non-null    object \n",
      " 14  emergencies_per_week                                  312 non-null    object \n",
      " 15  patients_age_group                                    312 non-null    object \n",
      " 16  week_presential_patients                              312 non-null    object \n",
      " 17  thanks1                                               0 non-null      float64\n",
      " 18  top_emergency_type_upTo3                              246 non-null    object \n",
      " 19  patient_symptoms_upToSeveral                          242 non-null    object \n",
      " 20  patient_instructions_before_appointment_upToSeveral   245 non-null    object \n",
      " 21  preventive_procedure_before_waiting_room_upToSeveral  245 non-null    object \n",
      " 22  cross_contamination_cabinet_prevention_upToSeveral    244 non-null    object \n",
      " 23  patient_cabinet_prevention_measures_upToSeveral       237 non-null    object \n",
      " 24  auxiliary_personnel                                   245 non-null    object \n",
      " 25  PPE_upToSeveral                                       246 non-null    object \n",
      " 26  thanks2                                               17 non-null     object \n",
      "dtypes: float64(1), object(26)\n",
      "memory usage: 73.1+ KB\n"
     ]
    }
   ],
   "source": [
    "# Informació general: nombre de files i columnes, tipus de dades, ...\n",
    "dental_em.info()"
   ]
  },
  {
   "cell_type": "code",
   "execution_count": 6,
   "id": "1ce57146",
   "metadata": {
    "tags": []
   },
   "outputs": [],
   "source": [
    "# Eliminem aquelles observacions que no son odontòlegs\n",
    "dental_em.drop(dental_em[dental_em.is_dentist == 'No'].index, inplace=True)\n",
    "# Eliminem aquelles observacions que no volen realitzar l'enquesta\n",
    "dental_em.drop(dental_em[dental_em.consent == 'No'].index, inplace=True)"
   ]
  },
  {
   "cell_type": "code",
   "execution_count": 7,
   "id": "dec90d2d",
   "metadata": {},
   "outputs": [],
   "source": [
    "# Eliminem variables innecessaries\n",
    "dental_em = dental_em.drop(['time','consent','is_dentist','thanks1', 'thanks2'], axis=1)"
   ]
  },
  {
   "cell_type": "code",
   "execution_count": 8,
   "id": "a3a2fb67",
   "metadata": {},
   "outputs": [
    {
     "name": "stdout",
     "output_type": "stream",
     "text": [
      "<class 'pandas.core.frame.DataFrame'>\n",
      "Int64Index: 312 entries, 1 to 345\n",
      "Data columns (total 22 columns):\n",
      " #   Column                                                Non-Null Count  Dtype \n",
      "---  ------                                                --------------  ----- \n",
      " 0   age                                                   312 non-null    object\n",
      " 1   gender                                                312 non-null    object\n",
      " 2   workplace                                             312 non-null    object\n",
      " 3   population                                            312 non-null    object\n",
      " 4   workspace                                             311 non-null    object\n",
      " 5   dental_care_cabinets_number                           312 non-null    object\n",
      " 6   activity_area                                         312 non-null    object\n",
      " 7   how_emergency_treatments                              312 non-null    object\n",
      " 8   is_number_emergency_increase                          312 non-null    object\n",
      " 9   reasons_of_contact_upTo3                              312 non-null    object\n",
      " 10  how_solved                                            312 non-null    object\n",
      " 11  emergencies_per_week                                  312 non-null    object\n",
      " 12  patients_age_group                                    312 non-null    object\n",
      " 13  week_presential_patients                              312 non-null    object\n",
      " 14  top_emergency_type_upTo3                              246 non-null    object\n",
      " 15  patient_symptoms_upToSeveral                          242 non-null    object\n",
      " 16  patient_instructions_before_appointment_upToSeveral   245 non-null    object\n",
      " 17  preventive_procedure_before_waiting_room_upToSeveral  245 non-null    object\n",
      " 18  cross_contamination_cabinet_prevention_upToSeveral    244 non-null    object\n",
      " 19  patient_cabinet_prevention_measures_upToSeveral       237 non-null    object\n",
      " 20  auxiliary_personnel                                   245 non-null    object\n",
      " 21  PPE_upToSeveral                                       246 non-null    object\n",
      "dtypes: object(22)\n",
      "memory usage: 56.1+ KB\n"
     ]
    }
   ],
   "source": [
    "dental_em.info()"
   ]
  },
  {
   "cell_type": "code",
   "execution_count": 9,
   "id": "51c3ed3f",
   "metadata": {},
   "outputs": [
    {
     "data": {
      "text/plain": [
       "Comunidad de Madrid       134\n",
       "Andalucía                  58\n",
       "Canarias                   25\n",
       "Comunidad Valenciana       21\n",
       "Cataluña                   12\n",
       "Castilla y León            10\n",
       "Aragón                     10\n",
       "Islas Baleares             10\n",
       "País Vasco                  8\n",
       "Castilla-La Mancha          8\n",
       "Extremadura                 6\n",
       "La Rioja                    4\n",
       "Galicia                     2\n",
       "Región de Murcia            2\n",
       "Principado de Asturias      1\n",
       "Melilla                     1\n",
       "Name: workplace, dtype: int64"
      ]
     },
     "execution_count": 9,
     "metadata": {},
     "output_type": "execute_result"
    }
   ],
   "source": [
    "# Curiositat: Nombre de vegades que apareix cada comunitat\n",
    "dental_em['workplace'].value_counts()"
   ]
  },
  {
   "cell_type": "code",
   "execution_count": 10,
   "id": "6a68002c",
   "metadata": {},
   "outputs": [
    {
     "name": "stdout",
     "output_type": "stream",
     "text": [
      "Valors nuls: 547\n"
     ]
    }
   ],
   "source": [
    "# valors nuls\n",
    "print(\"Valors nuls:\", dental_em.isna().sum().sum())"
   ]
  },
  {
   "cell_type": "code",
   "execution_count": 11,
   "id": "09adde48",
   "metadata": {},
   "outputs": [],
   "source": [
    "# Dividim variable 'reasons_of_contact_upTo3'\n",
    "dental_em[['reasons_of_contact_1','reasons_of_contact_2', \n",
    "           'reasons_of_contact_3']] = dental_em.reasons_of_contact_upTo3.str.split(\";\",expand=True,)\n",
    "dental_em = dental_em.drop(['reasons_of_contact_upTo3'], axis=1)"
   ]
  },
  {
   "cell_type": "code",
   "execution_count": 12,
   "id": "c5715f70",
   "metadata": {},
   "outputs": [],
   "source": [
    "# Dividim variable 'top_emergency_type_upTo3'\n",
    "dental_em[['top_emergency_type_1','top_emergency_type_2', \n",
    "           'top_emergency_type_3']] = dental_em.top_emergency_type_upTo3.str.split(\";\",expand=True,)\n",
    "dental_em = dental_em.drop(['top_emergency_type_upTo3'], axis=1)"
   ]
  },
  {
   "cell_type": "code",
   "execution_count": 13,
   "id": "65fc1e69",
   "metadata": {},
   "outputs": [],
   "source": [
    "# Dividim variable 'patient_symptoms_upToSeveral'\n",
    "dental_em[['patient_symptoms_1','patient_symptoms_2', \n",
    "           'patient_symptoms_3', 'patient_symptoms_4', 'patient_symptoms_5']] = dental_em.patient_symptoms_upToSeveral.str.split(\";\",expand=True,)\n",
    "dental_em = dental_em.drop(['patient_symptoms_upToSeveral'], axis=1)"
   ]
  },
  {
   "cell_type": "code",
   "execution_count": 14,
   "id": "544cdb07",
   "metadata": {},
   "outputs": [],
   "source": [
    "# Dividim variable 'patient_instructions_before_appointment_upToSeveral'\n",
    "dental_em[['patient_instructions_before_appointment_1','patient_instructions_before_appointment_2', \n",
    "           'patient_instructions_before_appointment_3', 'patient_instructions_before_appointment_4', \n",
    "           'patient_instructions_before_appointment_5']] = dental_em.patient_instructions_before_appointment_upToSeveral.str.split(\";\",expand=True,)\n",
    "dental_em = dental_em.drop(['patient_instructions_before_appointment_upToSeveral'], axis=1)"
   ]
  },
  {
   "cell_type": "code",
   "execution_count": 15,
   "id": "b3f8d840",
   "metadata": {},
   "outputs": [],
   "source": [
    "# Dividim variable 'preventive_procedure_before_waiting_room_upToSeveral'\n",
    "dental_em[['preventive_procedure_before_waiting_room_1','preventive_procedure_before_waiting_room_2', \n",
    "           'preventive_procedure_before_waiting_room_3', 'preventive_procedure_before_waiting_room_4', \n",
    "           'preventive_procedure_before_waiting_room_5']] = dental_em.preventive_procedure_before_waiting_room_upToSeveral.str.split(\";\",expand=True,)\n",
    "dental_em = dental_em.drop(['preventive_procedure_before_waiting_room_upToSeveral'], axis=1)"
   ]
  },
  {
   "cell_type": "code",
   "execution_count": 16,
   "id": "b525a7b2",
   "metadata": {},
   "outputs": [],
   "source": [
    "# Dividim variable 'cross_contamination_cabinet_prevention_upToSeveral'\n",
    "dental_em[['cross_contamination_cabinet_prevention_1','cross_contamination_cabinet_prevention_2', \n",
    "           'cross_contamination_cabinet_prevention_3', 'cross_contamination_cabinet_prevention_4', \n",
    "           'cross_contamination_cabinet_prevention_5', 'cross_contamination_cabinet_prevention_6',\n",
    "          'cross_contamination_cabinet_prevention_7']] = dental_em.cross_contamination_cabinet_prevention_upToSeveral.str.split(\";\",expand=True,)\n",
    "dental_em = dental_em.drop(['cross_contamination_cabinet_prevention_upToSeveral'], axis=1)"
   ]
  },
  {
   "cell_type": "code",
   "execution_count": 18,
   "id": "dabc1f15",
   "metadata": {},
   "outputs": [],
   "source": [
    "# Dividim variable 'patient_cabinet_prevention_measures_upToSeveral'\n",
    "dental_em[['patient_cabinet_prevention_measures_1','patient_cabinet_prevention_measures_2', \n",
    "           'patient_cabinet_prevention_measures_3', 'patient_cabinet_prevention_measures_4', \n",
    "           'patient_cabinet_prevention_measures_5', 'patient_cabinet_prevention_measures_6']] = dental_em.patient_cabinet_prevention_measures_upToSeveral.str.split(\";\",expand=True,)\n",
    "dental_em = dental_em.drop(['patient_cabinet_prevention_measures_upToSeveral'], axis=1)"
   ]
  },
  {
   "cell_type": "code",
   "execution_count": 19,
   "id": "a6abc2e1",
   "metadata": {},
   "outputs": [],
   "source": [
    "# Dividim variable 'PPE_upToSeveral'\n",
    "dental_em[['PPE_1','PPE_2', 'PPE_3', 'PPE_4', 'PPE_5', 'PPE_6', 'PPE_7']] = dental_em.PPE_upToSeveral.str.split(\";\",expand=True,)\n",
    "dental_em = dental_em.drop(['PPE_upToSeveral'], axis=1)"
   ]
  },
  {
   "cell_type": "code",
   "execution_count": 20,
   "id": "e3554e71",
   "metadata": {},
   "outputs": [
    {
     "name": "stdout",
     "output_type": "stream",
     "text": [
      "<class 'pandas.core.frame.DataFrame'>\n",
      "Int64Index: 312 entries, 1 to 345\n",
      "Data columns (total 55 columns):\n",
      " #   Column                                      Non-Null Count  Dtype \n",
      "---  ------                                      --------------  ----- \n",
      " 0   age                                         312 non-null    object\n",
      " 1   gender                                      312 non-null    object\n",
      " 2   workplace                                   312 non-null    object\n",
      " 3   population                                  312 non-null    object\n",
      " 4   workspace                                   311 non-null    object\n",
      " 5   dental_care_cabinets_number                 312 non-null    object\n",
      " 6   activity_area                               312 non-null    object\n",
      " 7   how_emergency_treatments                    312 non-null    object\n",
      " 8   is_number_emergency_increase                312 non-null    object\n",
      " 9   how_solved                                  312 non-null    object\n",
      " 10  emergencies_per_week                        312 non-null    object\n",
      " 11  patients_age_group                          312 non-null    object\n",
      " 12  week_presential_patients                    312 non-null    object\n",
      " 13  auxiliary_personnel                         245 non-null    object\n",
      " 14  reasons_of_contact_1                        312 non-null    object\n",
      " 15  reasons_of_contact_2                        207 non-null    object\n",
      " 16  reasons_of_contact_3                        141 non-null    object\n",
      " 17  top_emergency_type_1                        246 non-null    object\n",
      " 18  top_emergency_type_2                        81 non-null     object\n",
      " 19  top_emergency_type_3                        21 non-null     object\n",
      " 20  patient_symptoms_1                          242 non-null    object\n",
      " 21  patient_symptoms_2                          213 non-null    object\n",
      " 22  patient_symptoms_3                          193 non-null    object\n",
      " 23  patient_symptoms_4                          93 non-null     object\n",
      " 24  patient_symptoms_5                          5 non-null      object\n",
      " 25  patient_instructions_before_appointment_1   245 non-null    object\n",
      " 26  patient_instructions_before_appointment_2   232 non-null    object\n",
      " 27  patient_instructions_before_appointment_3   206 non-null    object\n",
      " 28  patient_instructions_before_appointment_4   136 non-null    object\n",
      " 29  patient_instructions_before_appointment_5   15 non-null     object\n",
      " 30  preventive_procedure_before_waiting_room_1  245 non-null    object\n",
      " 31  preventive_procedure_before_waiting_room_2  162 non-null    object\n",
      " 32  preventive_procedure_before_waiting_room_3  62 non-null     object\n",
      " 33  preventive_procedure_before_waiting_room_4  12 non-null     object\n",
      " 34  preventive_procedure_before_waiting_room_5  1 non-null      object\n",
      " 35  cross_contamination_cabinet_prevention_1    244 non-null    object\n",
      " 36  cross_contamination_cabinet_prevention_2    225 non-null    object\n",
      " 37  cross_contamination_cabinet_prevention_3    177 non-null    object\n",
      " 38  cross_contamination_cabinet_prevention_4    111 non-null    object\n",
      " 39  cross_contamination_cabinet_prevention_5    55 non-null     object\n",
      " 40  cross_contamination_cabinet_prevention_6    20 non-null     object\n",
      " 41  cross_contamination_cabinet_prevention_7    3 non-null      object\n",
      " 42  patient_cabinet_prevention_measures_1       237 non-null    object\n",
      " 43  patient_cabinet_prevention_measures_2       215 non-null    object\n",
      " 44  patient_cabinet_prevention_measures_3       158 non-null    object\n",
      " 45  patient_cabinet_prevention_measures_4       112 non-null    object\n",
      " 46  patient_cabinet_prevention_measures_5       61 non-null     object\n",
      " 47  patient_cabinet_prevention_measures_6       8 non-null      object\n",
      " 48  PPE_1                                       246 non-null    object\n",
      " 49  PPE_2                                       236 non-null    object\n",
      " 50  PPE_3                                       222 non-null    object\n",
      " 51  PPE_4                                       181 non-null    object\n",
      " 52  PPE_5                                       135 non-null    object\n",
      " 53  PPE_6                                       76 non-null     object\n",
      " 54  PPE_7                                       33 non-null     object\n",
      "dtypes: object(55)\n",
      "memory usage: 136.5+ KB\n"
     ]
    }
   ],
   "source": [
    "dental_em.info()"
   ]
  },
  {
   "cell_type": "code",
   "execution_count": null,
   "id": "21eecd67",
   "metadata": {},
   "outputs": [],
   "source": [
    "dental_em.rename(columns = {}, inplace = False)"
   ]
  },
  {
   "cell_type": "code",
   "execution_count": null,
   "id": "d4a1ec35",
   "metadata": {},
   "outputs": [],
   "source": []
  },
  {
   "cell_type": "code",
   "execution_count": null,
   "id": "7ffb04a4",
   "metadata": {},
   "outputs": [],
   "source": []
  },
  {
   "cell_type": "code",
   "execution_count": 21,
   "id": "50cfd868",
   "metadata": {},
   "outputs": [],
   "source": [
    "# Desem en fitxer csv\n",
    "dental_em.to_csv('dental_emergencies.csv', index=False)"
   ]
  },
  {
   "cell_type": "code",
   "execution_count": null,
   "id": "3477f0b2",
   "metadata": {},
   "outputs": [],
   "source": []
  }
 ],
 "metadata": {
  "kernelspec": {
   "display_name": "Python 3",
   "language": "python",
   "name": "python3"
  },
  "language_info": {
   "codemirror_mode": {
    "name": "ipython",
    "version": 3
   },
   "file_extension": ".py",
   "mimetype": "text/x-python",
   "name": "python",
   "nbconvert_exporter": "python",
   "pygments_lexer": "ipython3",
   "version": "3.8.8"
  }
 },
 "nbformat": 4,
 "nbformat_minor": 5
}
